{
  "nbformat": 4,
  "nbformat_minor": 0,
  "metadata": {
    "colab": {
      "provenance": [],
      "authorship_tag": "ABX9TyOBK4q0i1m3L3NRYptPcsT8",
      "include_colab_link": true
    },
    "kernelspec": {
      "name": "python3",
      "display_name": "Python 3"
    },
    "language_info": {
      "name": "python"
    }
  },
  "cells": [
    {
      "cell_type": "markdown",
      "metadata": {
        "id": "view-in-github",
        "colab_type": "text"
      },
      "source": [
        "<a href=\"https://colab.research.google.com/github/NataliaNinoV/IA-Analisis-de-sentimientos-INGLES/blob/main/IA_Analisis_de_Sentimientos_de_un_mensaje_en_INGLES.ipynb\" target=\"_parent\"><img src=\"https://colab.research.google.com/assets/colab-badge.svg\" alt=\"Open In Colab\"/></a>"
      ]
    },
    {
      "cell_type": "code",
      "execution_count": null,
      "metadata": {
        "id": "RUaloFghnFma"
      },
      "outputs": [],
      "source": [
        "#Frases para analizar\n",
        "f1 = \"I love this place\"\n",
        "f2 = \"I hate this restaurant\"\n",
        "f3 = \"hi\""
      ]
    },
    {
      "cell_type": "code",
      "source": [
        "import nltk # Permite interpretar los textos o mensajes"
      ],
      "metadata": {
        "id": "M-tcFmQjnT8O"
      },
      "execution_count": null,
      "outputs": []
    },
    {
      "cell_type": "code",
      "source": [
        "nltk.download('vader_lexicon')"
      ],
      "metadata": {
        "colab": {
          "base_uri": "https://localhost:8080/"
        },
        "id": "aEPLJN1HnYy-",
        "outputId": "579dbe75-8b47-4dbc-ebfb-be71ef329bbb"
      },
      "execution_count": null,
      "outputs": [
        {
          "output_type": "stream",
          "name": "stderr",
          "text": [
            "[nltk_data] Downloading package vader_lexicon to /root/nltk_data...\n"
          ]
        },
        {
          "output_type": "execute_result",
          "data": {
            "text/plain": [
              "True"
            ]
          },
          "metadata": {},
          "execution_count": 3
        }
      ]
    },
    {
      "cell_type": "code",
      "source": [
        "from nltk.sentiment import SentimentIntensityAnalyzer"
      ],
      "metadata": {
        "id": "IeOuscUlnn7v"
      },
      "execution_count": null,
      "outputs": []
    },
    {
      "cell_type": "code",
      "source": [
        "sia = SentimentIntensityAnalyzer()"
      ],
      "metadata": {
        "id": "b8gOcWL3n2nJ"
      },
      "execution_count": null,
      "outputs": []
    },
    {
      "cell_type": "code",
      "source": [
        "# Frase: \"i love this place\"\n",
        "resultSentimiento1 = sia.polarity_scores(f1) # genera un puntaje a partir de la frase\n",
        "print(resultSentimiento1)"
      ],
      "metadata": {
        "colab": {
          "base_uri": "https://localhost:8080/"
        },
        "id": "Z0fo3kqjoAiA",
        "outputId": "912ea2c2-a35a-4725-bad9-97331de60694"
      },
      "execution_count": null,
      "outputs": [
        {
          "output_type": "stream",
          "name": "stdout",
          "text": [
            "{'neg': 0.0, 'neu': 0.323, 'pos': 0.677, 'compound': 0.6369}\n"
          ]
        }
      ]
    },
    {
      "cell_type": "code",
      "source": [
        "# Frase: \"i hate this restaurant\"\n",
        "resultSentimiento2 = sia.polarity_scores(f2)\n",
        "print(resultSentimiento2)"
      ],
      "metadata": {
        "colab": {
          "base_uri": "https://localhost:8080/"
        },
        "id": "8oGPoZv-oQ5e",
        "outputId": "e0209715-3efc-447d-c4ce-f0ea342b73c4"
      },
      "execution_count": null,
      "outputs": [
        {
          "output_type": "stream",
          "name": "stdout",
          "text": [
            "{'neg': 0.649, 'neu': 0.351, 'pos': 0.0, 'compound': -0.5719}\n"
          ]
        }
      ]
    },
    {
      "cell_type": "code",
      "source": [
        "# Frase: \"i have nothing to say\"\n",
        "resultSentimiento3 = sia.polarity_scores(f3)\n",
        "print(resultSentimiento3)\n",
        "#Probabilidad de que sea negativo, neutro, positivo y un resumen(compound)"
      ],
      "metadata": {
        "colab": {
          "base_uri": "https://localhost:8080/"
        },
        "id": "YX2DLf2uoQu3",
        "outputId": "e9157e19-8bb9-49d0-8cd8-1e4d1361674d"
      },
      "execution_count": null,
      "outputs": [
        {
          "output_type": "stream",
          "name": "stdout",
          "text": [
            "{'neg': 0.0, 'neu': 1.0, 'pos': 0.0, 'compound': 0.0}\n"
          ]
        }
      ]
    },
    {
      "cell_type": "code",
      "source": [
        "# Funcion para solo 1rta\n",
        "def analizar(texto):\n",
        "  sia = SentimentIntensityAnalyzer()\n",
        "  sentimiento = sia.polarity_scores(texto)[\"compound\"]\n",
        "  print(sentimiento)\n",
        "  if sentimiento > 0.1:\n",
        "    return \"Buenas vibras\"\n",
        "  elif  0.1 > sentimiento >-0.1 :\n",
        "    return \"Meh\"\n",
        "  elif sentimiento <-0.1 :\n",
        "    return \"Malas vibras \"\n"
      ],
      "metadata": {
        "id": "hsl05kXposfX"
      },
      "execution_count": null,
      "outputs": []
    },
    {
      "cell_type": "code",
      "source": [
        "f3 = \" gray \"\n",
        "sentimiento = analizar(f3)\n",
        "print(f3)\n",
        "print(sentimiento)"
      ],
      "metadata": {
        "colab": {
          "base_uri": "https://localhost:8080/"
        },
        "id": "eEJmcwg4xQ6U",
        "outputId": "9aeb8167-09a5-4446-c0da-20c883c52adf"
      },
      "execution_count": null,
      "outputs": [
        {
          "output_type": "stream",
          "name": "stdout",
          "text": [
            "0.0\n",
            " gray \n",
            "Meh\n"
          ]
        }
      ]
    },
    {
      "cell_type": "code",
      "source": [
        "import pandas as pd\n",
        "#analizar varios datos"
      ],
      "metadata": {
        "id": "o36iiZZbzr0-"
      },
      "execution_count": null,
      "outputs": []
    },
    {
      "cell_type": "markdown",
      "source": [
        "\n",
        "\n",
        "> Ejercicio con frases en ingles\n",
        "\n"
      ],
      "metadata": {
        "id": "V6keJLgMNmzB"
      }
    },
    {
      "cell_type": "code",
      "source": [
        "frases_positivas = [\n",
        "    \"I love this!\",\n",
        "    \"Today is a beautiful day.\",\n",
        "    \"I feel great.\",\n",
        "    \"Everything is going well.\",\n",
        "    \"I'm so happy.\",\n",
        "    \"I achieved my goal.\",\n",
        "    \"Life is wonderful.\",\n",
        "    \"I'm grateful for everything.\",\n",
        "    \"I'm surrounded by amazing people.\",\n",
        "    \"I'm proud of myself.\",\n",
        "    \"I'm excited about the future.\",\n",
        "    \"I'm enjoying every moment.\",\n",
        "    \"This makes me smile.\",\n",
        "    \"I'm in a good mood.\",\n",
        "    \"I'm lucky to have you.\",\n",
        "    \"I appreciate your help.\",\n",
        "    \"I'm making progress.\",\n",
        "    \"I'm full of energy.\",\n",
        "    \"I'm having a fantastic day.\",\n",
        "    \"This is exactly what I needed.\",\n",
        "    \"I'm feeling optimistic.\",\n",
        "    \"I'm inspired by you.\",\n",
        "    \"I'm proud of what I've accomplished.\",\n",
        "    \"I'm surrounded by love and support.\",\n",
        "    \"I'm confident in my abilities.\",\n",
        "    \"I'm on the right track.\",\n",
        "    \"I'm thankful for the little things.\",\n",
        "    \"I'm surrounded by beauty.\",\n",
        "    \"I'm enjoying the journey.\",\n",
        "    \"I'm looking forward to the weekend.\",\n",
        "    \"I'm grateful for new opportunities.\",\n",
        "    \"I'm surrounded by positivity.\",\n",
        "    \"I'm happy with who I am.\",\n",
        "    \"I'm surrounded by abundance.\"\n",
        "]\n",
        "\n",
        "frases_negativas = [\n",
        "    \"I feel awful.\",\n",
        "    \"Today is a bad day.\",\n",
        "    \"Nothing is going right.\",\n",
        "    \"I'm so sad.\",\n",
        "    \"I failed.\",\n",
        "    \"Life is hard.\",\n",
        "    \"I'm disappointed.\",\n",
        "    \"I'm stressed out.\",\n",
        "    \"I'm surrounded by negativity.\",\n",
        "    \"I'm ashamed of myself.\",\n",
        "    \"I'm worried about the future.\",\n",
        "    \"I can't handle this.\",\n",
        "    \"This makes me cry.\",\n",
        "    \"I'm in a bad mood.\",\n",
        "    \"I'm unlucky.\",\n",
        "    \"I don't appreciate your attitude.\",\n",
        "    \"I'm stuck.\",\n",
        "    \"I'm exhausted.\",\n",
        "    \"I'm having a terrible day.\",\n",
        "    \"This is not what I expected.\",\n",
        "    \"I'm feeling pessimistic.\",\n",
        "    \"You let me down.\",\n",
        "    \"I'm disappointed in myself.\",\n",
        "    \"I feel alone and unsupported.\",\n",
        "    \"I doubt my abilities.\",\n",
        "    \"I'm off track.\",\n",
        "    \"I can't find anything positive.\",\n",
        "    \"I'm surrounded by negativity.\",\n",
        "    \"I'm dreading the weekend.\",\n",
        "    \"I missed out on opportunities.\",\n",
        "    \"I'm overwhelmed.\",\n",
        "    \"I'm unhappy with who I am.\",\n",
        "    \"I'm surrounded by scarcity.\"\n",
        "]\n",
        "\n",
        "frases_neutras = [\n",
        "    \"This is interesting.\",\n",
        "    \"I'm just okay.\",\n",
        "    \"It's neither good nor bad.\",\n",
        "    \"I'm feeling neutral.\",\n",
        "    \"It's average.\",\n",
        "    \"I have no strong feelings about it.\",\n",
        "    \"I'm indifferent.\",\n",
        "    \"I don't know how I feel.\",\n",
        "    \"It's neither here nor there.\",\n",
        "    \"I have mixed emotions.\",\n",
        "    \"It's not a big deal.\",\n",
        "    \"I have no opinion.\",\n",
        "    \"I'm not sure.\",\n",
        "    \"It's okay, I guess.\",\n",
        "    \"It's nothing special.\",\n",
        "    \"I don't really care.\",\n",
        "    \"I'm on the fence.\",\n",
        "    \"It's just the usual.\",\n",
        "    \"I don't have strong emotions about it.\",\n",
        "    \"I'm neutral about the situation.\",\n",
        "    \"It's not remarkable.\",\n",
        "    \"I don't feel strongly either way.\",\n",
        "    \"It's just average.\",\n",
        "    \"I don't have a preference.\",\n",
        "    \"It's not significant.\",\n",
        "    \"I'm undecided.\",\n",
        "    \"It doesn't matter to me.\",\n",
        "    \"I'm ambivalent.\",\n",
        "    \"It's not important.\",\n",
        "    \"I have no strong reaction.\",\n",
        "    \"I'm impartial.\",\n",
        "    \"It's neither good nor bad.\"\n",
        "]\n",
        "\n",
        "frases = frases_positivas + frases_negativas + frases_neutras\n"
      ],
      "metadata": {
        "id": "l3W67xahz9Jv"
      },
      "execution_count": null,
      "outputs": []
    },
    {
      "cell_type": "code",
      "source": [
        "import random\n",
        "\n",
        "frases_seleccionadas = random.sample(frases, 5)\n",
        "\n",
        "for frase in frases_seleccionadas:\n",
        "    resultado = analizar(frase)\n",
        "    print(frase + '        ' + resultado)"
      ],
      "metadata": {
        "colab": {
          "base_uri": "https://localhost:8080/"
        },
        "id": "pSkLF3tuH-xI",
        "outputId": "620ebb73-6500-4943-aa8d-78eafd4fdf83"
      },
      "execution_count": null,
      "outputs": [
        {
          "output_type": "stream",
          "name": "stdout",
          "text": [
            "-0.0191\n",
            "It doesn't matter to me.        Meh\n",
            "-0.25\n",
            "I'm feeling pessimistic.        Malas vibras \n",
            "0.6597\n",
            "I appreciate your help.        Buenas vibras\n",
            "0.3612\n",
            "This makes me smile.        Buenas vibras\n",
            "-0.4767\n",
            "I'm disappointed.        Malas vibras \n"
          ]
        }
      ]
    }
  ]
}